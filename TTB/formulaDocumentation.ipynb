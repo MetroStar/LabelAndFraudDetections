{
 "cells": [
  {
   "cell_type": "markdown",
   "metadata": {},
   "source": [
    "<img src=\"./TestData/images/j_spirit_bottles.png\" width=\"800\" height=\"20\">\n",
    "\n",
    "## <h1><center>Scenerio</center></h1>\n",
    "***\n",
    "With this demostration we will take a look at how to identify a fraudulent spirit formula. In this scenerio we identify fraudulent formulas by taking a look at how closely one formula resembles another formula in the dataset. Doing this in an iterative and automated way can be a powerful way to identify fraudulent activity at the time it is submitted.\n",
    "\n"
   ]
  },
  {
   "cell_type": "markdown",
   "metadata": {},
   "source": [
    "## <h1><center>Creating Our Data</center></h1>\n",
    "***\n",
    "After configuring our environment we begin the process of creating our dataset. We assign several column names which resemble ingredients typically found in spirit formulas. Additionally, we assign columns for up to 90 additional ingredients that could be present in the formula. We are left with 100 features: <br>\n",
    "> - Feature 1: Type of spirit designation\n",
    "> - Features 2-10: Common spirit formula ingredients (Ethyl, Citric Acid, etc.)\n",
    "> - Features 11-100: Possible additional ingredients\n",
    "\n",
    "Once our headings are established, we are ready to create our dataset. We will use SciKit Learn to generate data which will replicate a spirit's formula. We cluster this data into five categories which we will label with common types of spirits such as Vodka, Rum, and Gin. Here, we also transform this formula data into a dataframe for easier manipulation and analysis later on in the demonstration."
   ]
  },
  {
   "cell_type": "markdown",
   "metadata": {},
   "source": [
    "## <h1><center>Plotting the Data Clusters</center></h1>\n",
    "***\n",
    "After we establish our data and transform it into a dataframe, we visualize the clusters. Below we see a 2d plot with the amounts of Ethyl and Citric Acid found in the formula for each entry in the dataset. There are distinct amounts of both ingredients depending on the type of spirit so we see the formation of five clusters representing out five types of spirits.\n",
    "\n",
    "We identify a fraudulent vodka formula in our data, but how do we come to this conclusion? \n",
    "\n",
    "Now that our frudulent entry is in our dataset, we can again plot the amounts of Ethyl and Citric Acid against each other to see that our fraudulent entry is suspiciously close to an existing vodka formula. However, we see several points on the graph close to each other, so how do we determine when a point is too close to another? "
   ]
  },
  {
   "cell_type": "markdown",
   "metadata": {},
   "source": [
    "## <h1><center>Using Distance Measures</center></h1>\n",
    "***\n",
    "Above we see two ingredients plotted against each other and how the fraudulent point is suspiciously close to an existing entry. Considering that our formulas each have 100 ingredients, doing this manual inspection for each formula would be nearly impossible. To identify fraudulent entries in an efficient and automated way, we will look at the Euclidean distance between one record and another record. \n",
    "\n",
    "After generating our distance matrix and inspecting our results we get the following graph. this shows our LEGITIMATE formulas have:\n",
    "> - Mean: ~6-7\n",
    "> - Standard Deviation: ~1\n",
    "\n",
    "Once we have a baseline of what a legitimate formula distance should be, lets add our fraud into the mix and see what our results are.\n",
    "\n",
    "With our fraudulent entry added back, lets take a look at the same distance matrix between our fraudulent point and the formula which it is attempting to copy. We plot the distance measures in the same format and now have:\n",
    "> - Mean: ~0.02\n",
    "> - Standard Deviation: ~0.028\n",
    "\n",
    "We see that our mean distance between all the features no longer differs by about 6-7. Instead, our mean difference is well below zero, indicating this entry is very closely related to an existing formula. By doing this in an iterative and automatic way, we can easily identify fraudulent, or at the very least, suspicious formulas within the dataset."
   ]
  },
  {
   "cell_type": "code",
   "execution_count": null,
   "metadata": {},
   "outputs": [],
   "source": []
  }
 ],
 "metadata": {
  "kernelspec": {
   "display_name": "Python 3",
   "language": "python",
   "name": "python3"
  },
  "language_info": {
   "codemirror_mode": {
    "name": "ipython",
    "version": 3
   },
   "file_extension": ".py",
   "mimetype": "text/x-python",
   "name": "python",
   "nbconvert_exporter": "python",
   "pygments_lexer": "ipython3",
   "version": "3.7.4"
  }
 },
 "nbformat": 4,
 "nbformat_minor": 4
}
