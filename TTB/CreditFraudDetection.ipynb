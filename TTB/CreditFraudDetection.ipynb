{
 "cells": [
  {
   "cell_type": "code",
   "execution_count": 1,
   "metadata": {},
   "outputs": [],
   "source": [
    "import pandas as pd\n",
    "import os\n",
    "\n",
    "df = pd.read_csv(os.environ['MLDIR'] + '/TestData/credit_fraud/data/creditcard.csv')\n",
    "#print(str(df))\n",
    "credit_fraud = df.loc[df['Class'] == 1]\n",
    "credit_valid = df.loc[df['Class'] == 0]"
   ]
  },
  {
   "cell_type": "code",
   "execution_count": 2,
   "metadata": {},
   "outputs": [
    {
     "name": "stdout",
     "output_type": "stream",
     "text": [
      "(201, 31)\n",
      "(231, 31)\n"
     ]
    }
   ],
   "source": [
    "#credit_fraud = credit_fraud.drop(columns=['Class'])\n",
    "#credit_valid = credit_valid.drop(columns=['Class'])\n",
    "sel_credit = credit_valid.iloc[0:201]\n",
    "print(str(sel_credit.shape))\n",
    "#print(str(credit_fraud.shape))\n",
    "#print(str(credit_fraud.iloc[0]))\n",
    "sel_credit = sel_credit.append(credit_fraud.iloc[20:50], ignore_index=True)\n",
    "print(str(sel_credit.shape))\n",
    "#print(sel_credit)"
   ]
  },
  {
   "cell_type": "code",
   "execution_count": 39,
   "metadata": {},
   "outputs": [
    {
     "name": "stdout",
     "output_type": "stream",
     "text": [
      "     Time        V1        V2        V3        V4        V5        V6  \\\n",
      "0     0.0  1.191857  0.266151  0.166480  0.448154  0.060018 -0.082361   \n",
      "1     1.0 -1.358354 -1.340163  1.773209  0.379780 -0.503198  1.800499   \n",
      "2     1.0 -0.966272 -0.185226  1.792993 -0.863291 -0.010309  1.247203   \n",
      "3     2.0 -1.158233  0.877737  1.548718  0.403034 -0.407193  0.095921   \n",
      "4     2.0 -0.425966  0.960523  1.141109 -0.168252  0.420987 -0.029728   \n",
      "5     4.0  1.229658  0.141004  0.045371  1.202613  0.191881  0.272708   \n",
      "6     7.0 -0.644269  1.417964  1.074380 -0.492199  0.948934  0.428118   \n",
      "7     7.0 -0.894286  0.286157 -0.113192 -0.271526  2.669599  3.721818   \n",
      "8     9.0 -0.338262  1.119593  1.044367 -0.222187  0.499361 -0.246761   \n",
      "9    10.0  1.449044 -1.176339  0.913860 -1.375667 -1.971383 -0.629152   \n",
      "10   10.0  0.384978  0.616109 -0.874300 -0.094019  2.924584  3.317027   \n",
      "11   10.0  1.249999 -1.221637  0.383930 -1.234899 -1.485419 -0.753230   \n",
      "12   11.0  1.069374  0.287722  0.828613  2.712520 -0.178398  0.337544   \n",
      "13   12.0 -2.791855 -0.327771  1.641750  1.767473 -0.136588  0.807596   \n",
      "14   12.0 -0.752417  0.345485  2.057323 -1.468643 -1.158394 -0.077850   \n",
      "15   12.0  1.103215 -0.040296  1.267332  1.289091 -0.735997  0.288069   \n",
      "16   13.0 -0.436905  0.918966  0.924591 -0.727219  0.915679 -0.127867   \n",
      "17   14.0 -5.401258 -5.450148  1.186305  1.736239  3.049106 -1.763406   \n",
      "18   15.0  1.492936 -1.029346  0.454795 -1.438026 -1.555434 -0.720961   \n",
      "19  406.0 -2.312227  1.951992 -1.609851  3.997906 -0.522188 -1.426545   \n",
      "\n",
      "          V7        V8        V9  ...       V20       V21       V22       V23  \\\n",
      "0  -0.078803  0.085102 -0.255425  ... -0.069083 -0.225775 -0.638672  0.101288   \n",
      "1   0.791461  0.247676 -1.514654  ...  0.524980  0.247998  0.771679  0.909412   \n",
      "2   0.237609  0.377436 -1.387024  ... -0.208038 -0.108300  0.005274 -0.190321   \n",
      "3   0.592941 -0.270533  0.817739  ...  0.408542 -0.009431  0.798278 -0.137458   \n",
      "4   0.476201  0.260314 -0.568671  ...  0.084968 -0.208254 -0.559825 -0.026398   \n",
      "5  -0.005159  0.081213  0.464960  ... -0.219633 -0.167716 -0.270710 -0.154104   \n",
      "6   1.120631 -3.807864  0.615375  ... -0.156742  1.943465 -1.015455  0.057504   \n",
      "7   0.370145  0.851084 -0.392048  ...  0.052736 -0.073425 -0.268092 -0.204233   \n",
      "8   0.651583  0.069539 -0.736727  ...  0.203711 -0.246914 -0.633753 -0.120794   \n",
      "9  -1.423236  0.048456 -1.720408  ... -0.387226 -0.009302  0.313894  0.027740   \n",
      "10  0.470455  0.538247 -0.558895  ...  0.125992  0.049924  0.238422  0.009130   \n",
      "11 -0.689405 -0.227487 -2.094011  ... -0.102756 -0.231809 -0.483285  0.084668   \n",
      "12 -0.096717  0.115982 -0.221083  ... -0.153197 -0.036876  0.074412 -0.071407   \n",
      "13 -0.422911 -1.907107  0.755713  ... -1.582122  1.151663  0.222182  1.020586   \n",
      "14 -0.608581  0.003603 -0.436167  ...  0.263451  0.499625  1.353650 -0.256573   \n",
      "15 -0.586057  0.189380  0.782333  ... -0.113910 -0.024612  0.196002  0.013802   \n",
      "16  0.707642  0.087962 -0.665271  ... -0.047021 -0.194796 -0.672638 -0.156858   \n",
      "17 -1.559738  0.160842  1.233090  ... -2.196848 -0.503600  0.984460  2.458589   \n",
      "18 -1.080664 -0.053127 -1.978682  ... -0.387910 -0.177650 -0.175074  0.040002   \n",
      "19 -2.537387  1.391657 -2.770089  ...  0.126911  0.517232 -0.035049 -0.465211   \n",
      "\n",
      "         V24       V25       V26       V27       V28  Amount  \n",
      "0  -0.339846  0.167170  0.125895 -0.008983  0.014724    2.69  \n",
      "1  -0.689281 -0.327642 -0.139097 -0.055353 -0.059752  378.66  \n",
      "2  -1.175575  0.647376 -0.221929  0.062723  0.061458  123.50  \n",
      "3   0.141267 -0.206010  0.502292  0.219422  0.215153   69.99  \n",
      "4  -0.371427 -0.232794  0.105915  0.253844  0.081080    3.67  \n",
      "5  -0.780055  0.750137 -0.257237  0.034507  0.005168    4.99  \n",
      "6  -0.649709 -0.415267 -0.051634 -1.206921 -1.085339   40.80  \n",
      "7   1.011592  0.373205 -0.384157  0.011747  0.142404   93.20  \n",
      "8  -0.385050 -0.069733  0.094199  0.246219  0.083076    3.68  \n",
      "9   0.500512  0.251367 -0.129478  0.042850  0.016253    7.80  \n",
      "10  0.996710 -0.767315 -0.492208  0.042472 -0.054337    9.99  \n",
      "11  0.392831  0.161135 -0.354990  0.026416  0.042422  121.50  \n",
      "12  0.104744  0.548265  0.104094  0.021491  0.021293   27.50  \n",
      "13  0.028317 -0.232746 -0.235557 -0.164778 -0.030154   58.80  \n",
      "14 -0.065084 -0.039124 -0.087086 -0.180998  0.129394   15.99  \n",
      "15  0.103758  0.364298 -0.382261  0.092809  0.037051   12.99  \n",
      "16 -0.888386 -0.342413 -0.049027  0.079692  0.131024    0.89  \n",
      "17  0.042119 -0.481631 -0.621272  0.392053  0.949594   46.80  \n",
      "18  0.295814  0.332931 -0.220385  0.022298  0.007602    5.00  \n",
      "19  0.320198  0.044519  0.177840  0.261145 -0.143276    0.00  \n",
      "\n",
      "[20 rows x 30 columns]\n"
     ]
    }
   ],
   "source": [
    "print(sel_credit)"
   ]
  },
  {
   "cell_type": "code",
   "execution_count": 3,
   "metadata": {},
   "outputs": [
    {
     "data": {
      "text/plain": [
       "<Figure size 640x480 with 1 Axes>"
      ]
     },
     "metadata": {},
     "output_type": "display_data"
    }
   ],
   "source": [
    "from sklearn.manifold import TSNE\n",
    "import matplotlib.pyplot as plt\n",
    "\n",
    "X_embedded = TSNE(n_components=2).fit_transform(sel_credit)\n",
    "\n",
    "plt.scatter(X_embedded[0:199, 0], X_embedded[0:199, 1])\n",
    "plt.scatter(X_embedded[200:, 0], X_embedded[200:, 1])  \n",
    "plt.show()"
   ]
  },
  {
   "cell_type": "code",
   "execution_count": 4,
   "metadata": {},
   "outputs": [
    {
     "data": {
      "image/png": "[encoded data removed]",
      "text/plain": [
       "<Figure size 432x288 with 1 Axes>"
      ]
     },
     "metadata": {
      "needs_background": "light"
     },
     "output_type": "display_data"
    }
   ],
   "source": [
    "from sklearn.manifold import TSNE\n",
    "import matplotlib.pyplot as plt\n",
    "import pandas as pd\n",
    "\n",
    "df_form = pd.read_csv(os.environ['MLDIR'] + '/TestData/credit_fraud/data/Synthetic_Formula_Data.csv')\n",
    "formula_data = df_form.drop(columns=['type'])\n",
    "\n",
    "\n",
    "\n",
    "X_embedded = TSNE(n_components=2).fit_transform(formula_data)\n",
    "\n",
    "plt.scatter(X_embedded[:, 0], X_embedded[:, 1])  \n",
    "plt.show()"
   ]
  }
 ],
 "metadata": {
  "kernelspec": {
   "display_name": "Python 3",
   "language": "python",
   "name": "python3"
  },
  "language_info": {
   "codemirror_mode": {
    "name": "ipython",
    "version": 3
   },
   "file_extension": ".py",
   "mimetype": "text/x-python",
   "name": "python",
   "nbconvert_exporter": "python",
   "pygments_lexer": "ipython3",
   "version": "3.7.3"
  }
 },
 "nbformat": 4,
 "nbformat_minor": 2
}
