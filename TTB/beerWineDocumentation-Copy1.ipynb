{
 "cells": [
  {
   "cell_type": "markdown",
   "metadata": {},
   "source": [
    "# Scenario\n",
    "\n",
    "In the beer label fraud detection scenario, we will show how to detect fraudulent beer labels using copyrighted images as a base. We create a model for beer labels and illustrate the result of our classification algorithm. To this end, we train a deep neural network as well and implement it in Keras. We import the necessary packages and modules and build our deep learning model. To set up our environment, we will be using TensorFlow as the backend for Keras. In Keras, a model is (usually) a graph of layers. The most common type of model is a stack of layers, which is called the Sequential model."
   ]
  },
  {
   "cell_type": "markdown",
   "metadata": {},
   "source": [
    "![alt text](./TestData/images/n_beer_labels.jpg  \"Beer Labels picture\")"
   ]
  },
  {
   "cell_type": "markdown",
   "metadata": {},
   "source": [
    "###  Target Beer Label\n",
    "\n",
    "Our goal is to learn a classifier that can automatically determine any beer label into either fraudulent or non-fraudulent categories. The figure below represents our target beer label, which is the company's legit label and is used in our model as the ground truth image.\n",
    "\n",
    "\n",
    "\n",
    "\n",
    "\n",
    "\n",
    "![alt text](./TestData/label_fraud/beer_label_fraud/Bud_LabelSmall.png \"Logo Title Text 1\")\n"
   ]
  },
  {
   "cell_type": "markdown",
   "metadata": {},
   "source": [
    "### Loading the data\n",
    "\n",
    "Our dataset is representative of the beer labels available in the marketplace. We also create a synthetic dataset to test/evaluate our algorithm. Synthetic datasets provide an excellent testing ground for judging and comparing ML algorithms. Thus, In order to test our model, we have generated a synthetic dataset applying image transformation. \n",
    "Transforms include a range of operations from the field of image manipulation, such as shifts, flips, zooms, and much more. "
   ]
  },
  {
   "cell_type": "markdown",
   "metadata": {},
   "source": [
    "### Detected Fradulent Beer Labels\n",
    "\n",
    "In this part, we apply our model to our dataset which is made up of a combination of real and synthetic beer labels \n",
    "Based on the result of our model, the below images are fraudulent beer labels. \n"
   ]
  },
  {
   "cell_type": "markdown",
   "metadata": {},
   "source": [
    "### Detected Non-Fradulent Beer Labels\n",
    "\n",
    "In the previous section, we detected fraudulent beer labels, and now we are showing the labels which our model classifies as non-fraudulent."
   ]
  },
  {
   "cell_type": "markdown",
   "metadata": {},
   "source": [
    "### Complete Dataset"
   ]
  },
  {
   "cell_type": "markdown",
   "metadata": {},
   "source": [
    "![alt text](./TestData/images/n_wine_labels.png  \"Wine Labels picture\")"
   ]
  },
  {
   "cell_type": "markdown",
   "metadata": {},
   "source": [
    "# Scenario\n",
    "\n",
    "In the wine label fraud detection scenario, we will show how to detect fraudulent wine labels using copyrighted images as a base. We create a model for wine labels and illustrate the result of our classification algorithm. To this end, we train a deep neural network as well and implement it in Keras. We import the necessary packages and modules and build our deep learning model. To set up our environment, we will be using TensorFlow as the backend for Keras. In Keras, a model is (usually) a graph of layers. The most common type of model is a stack of layers, which is called the Sequential model. "
   ]
  },
  {
   "cell_type": "markdown",
   "metadata": {},
   "source": [
    "### Target Wine Label\n",
    "\n",
    "Our goal is to learn a classifier that can automatically determine any wine label into either fraudulent or non-fraudulent categories. The figures below represent our target wine labels, which are the company's legit labels and are used in our model as the ground truth images."
   ]
  },
  {
   "cell_type": "markdown",
   "metadata": {},
   "source": [
    "### Loading the data\n",
    "\n",
    "Our dataset is representative of the wine labels available in the marketplace. We also create a synthetic dataset to test/evaluate our algorithm. Synthetic datasets provide an excellent testing ground for judging and comparing ML algorithms. Thus, In order to test our model, we have generated a synthetic dataset applying image transformation. \n",
    "Transforms include a range of operations from the field of image manipulation, such as shifts, flips, zooms, and much more. "
   ]
  },
  {
   "cell_type": "markdown",
   "metadata": {},
   "source": [
    "### Detected Fradulent Wine Labels\n",
    "\n",
    "In this part, we apply our model to our dataset which is made up of a combination of real and synthetic wine labels \n",
    "Based on the result of our model, the below images are fraudulent wine labels. "
   ]
  },
  {
   "cell_type": "markdown",
   "metadata": {},
   "source": [
    "### Detected Non-Fradulent Wine Labels\n",
    "\n",
    "In the previous section, we detected fraudulent wine labels, and now we are showing the labels which our model classifies as non-fraudulent labels."
   ]
  },
  {
   "cell_type": "markdown",
   "metadata": {},
   "source": [
    "### Complete Dataset"
   ]
  }
 ],
 "metadata": {
  "kernelspec": {
   "display_name": "Python 3",
   "language": "python",
   "name": "python3"
  },
  "language_info": {
   "codemirror_mode": {
    "name": "ipython",
    "version": 3
   },
   "file_extension": ".py",
   "mimetype": "text/x-python",
   "name": "python",
   "nbconvert_exporter": "python",
   "pygments_lexer": "ipython3",
   "version": "3.7.4"
  }
 },
 "nbformat": 4,
 "nbformat_minor": 4
}
