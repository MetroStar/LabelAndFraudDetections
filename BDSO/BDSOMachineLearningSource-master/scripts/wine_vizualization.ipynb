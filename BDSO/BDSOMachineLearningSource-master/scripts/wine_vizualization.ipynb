{
 "cells": [
  {
   "cell_type": "code",
   "execution_count": null,
   "metadata": {},
   "outputs": [],
   "source": [
    "import json\n",
    "import pandas as pd\n",
    "from datetime import datetime\n",
    "\n",
    "\n",
    "\n",
    "\n",
    "# used stored data to retrieve which actors were in the movie, movie budget, and revenue\n",
    "wine_data = pd.read_csv(\"/Users/jkim/proj/TTB/formula_fraud/wine.data.csv\", index_col=False)\n",
    "print(str((wine_data)))\n",
    "\n"
   ]
  },
  {
   "cell_type": "markdown",
   "metadata": {},
   "source": [
    "# Section: 3 \n",
    "\n",
    "This section is the second prediction code section to predict the revenue of \"Baywatch\" the movie given that Dwayne Johnson, Vin Diesel, or Christian Bale are chosen to be the possible lead."
   ]
  },
  {
   "cell_type": "code",
   "execution_count": 61,
   "metadata": {},
   "outputs": [
    {
     "name": "stdout",
     "output_type": "stream",
     "text": [
      "Predictive Metrics for \"Baywatch\" with Dwayne Johnson, Vin Diesel, or Christian Bale\n",
      "Dwayne Johnson: Percent Error = 2.6952%\n",
      "Dwayne Johnson: Predicted Revenue = $1.7306E+08\n",
      "Dwayne Johnson: Actual Revenue = $1.7786E+08\n",
      "\n",
      "\n",
      "Vin Diesel: Percent Error = 5.7367%\n",
      "Vin Diesel: Predicted Revenue = $1.6765E+08\n",
      "Vin Diesel: Actual Revenue = $1.7786E+08\n",
      "\n",
      "\n",
      "Christian Bale: Percent Error = 14.0098%\n",
      "Christian Bale: Predicted Revenue = $1.5294E+08\n",
      "Christian Bale: Actual Revenue = $1.7786E+08\n"
     ]
    }
   ],
   "source": [
    "# Perform training, and predicting for the Dwayne Johnson Model for the Baywatch movie\n",
    "cb_df_dj = pd.read_csv(\"dj_data.csv\", index_col=False)\n",
    "x_train_dj = cb_df_dj.drop(['tmdb_id', 'revenue'], axis=1)\n",
    "N = len(x_train_dj)\n",
    "regressor_dj = RandomForestRegressor(n_estimators = 1000, random_state = 0)\n",
    "regressor_dj.fit(x_train_dj.iloc[0:(N-1)], cb_df_dj.revenue.iloc[0:(N-1)])\n",
    "test_dj = x_train_dj.iloc[(N-1):N]\n",
    "preds_dj = regressor_dj.predict(test_dj)\n",
    "final_rev_dj = cb_df_dj.revenue.iloc[(N-1):N]\n",
    "print('Predictive Metrics for \\\"Baywatch\\\" with Dwayne Johnson, Vin Diesel, or Christian Bale')\n",
    "print('Dwayne Johnson: Percent Error = %.4f' % ((final_rev_dj - preds_dj[0])*100/final_rev_dj) + '%')\n",
    "print('Dwayne Johnson: Predicted Revenue = $%.4E' % (preds_dj[0]*1e9))\n",
    "print('Dwayne Johnson: Actual Revenue = $%.4E' % (final_rev_dj*1e9) + '\\n\\n')\n",
    "\n",
    "# Perform training, and predicting for the Vin Diesel Model for the Baywatch movie\n",
    "cb_df_vd = pd.read_csv(\"vd_data.csv\", index_col=False)\n",
    "x_train_vd = cb_df_vd.drop(['tmdb_id', 'revenue'], axis=1)\n",
    "N = len(x_train_vd)\n",
    "regressor_vd = RandomForestRegressor(n_estimators = 1000, random_state = 0)\n",
    "regressor_vd.fit(x_train_vd.iloc[0:(N-1)], cb_df_vd.revenue.iloc[0:(N-1)])                             \n",
    "preds_vd = regressor_vd.predict(test_dj)\n",
    "final_rev_vd = cb_df_vd.revenue.iloc[(N-1):N]\n",
    "print('Vin Diesel: Percent Error = %.4f' % ((final_rev_dj - preds_vd[0])*100/final_rev_dj) + '%')\n",
    "print('Vin Diesel: Predicted Revenue = $%.4E' % (preds_vd[0]*1e9))\n",
    "print('Vin Diesel: Actual Revenue = $%.4E' % (final_rev_dj*1e9) + '\\n\\n')\n",
    "\n",
    "# Perform training, and predicting for the Christian Bale Model for the Baywatch movie\n",
    "cb_df_cb = pd.read_csv(\"cb_data.csv\", index_col=False)\n",
    "x_train_cb = cb_df_cb.drop(['tmdb_id', 'revenue'], axis=1)\n",
    "N = len(x_train_cb)\n",
    "regressor_cb = RandomForestRegressor(n_estimators = 1000, random_state = 0)\n",
    "regressor_cb.fit(x_train_cb.iloc[0:(N-1)], cb_df_cb.revenue.iloc[0:(N-1)])                             \n",
    "preds_cb = regressor_cb.predict(test_dj)\n",
    "final_rev_cb = cb_df_cb.revenue.iloc[(N-1):N]\n",
    "print('Christian Bale: Percent Error = %.4f' % ((final_rev_dj - preds_cb[0])*100/final_rev_dj) + '%')\n",
    "print('Christian Bale: Predicted Revenue = $%.4E' % (preds_cb[0]*1e9))\n",
    "print('Christian Bale: Actual Revenue = $%.4E' % (final_rev_dj*1e9))"
   ]
  },
  {
   "cell_type": "markdown",
   "metadata": {},
   "source": [
    "This current model would have chosen Dwayne Johnson for the lead. From Dwayne's track record, he is the logical choice. He has done well with ~$50 million budget movies. The revenue is partly dependent on the choice of the actor. Each model is dependent on the lead actor choice because the career of each actor will have a different profile, and the career profile will impact the revenue of the movie."
   ]
  },
  {
   "cell_type": "markdown",
   "metadata": {},
   "source": [
    "# Section: 4 \n",
    "\n",
    "This section is the third prediction code section to predict the revenue of \"The Fate of the Furious\" the movie given that Vin Diesel, Dwayne Johnson, or Christian Bale are chosen to be the possible lead."
   ]
  },
  {
   "cell_type": "code",
   "execution_count": 62,
   "metadata": {
    "scrolled": true
   },
   "outputs": [
    {
     "name": "stdout",
     "output_type": "stream",
     "text": [
      "Predictive Metrics for \"Fate of the Furious\" with Vin Diesel, Dwayne Johnson, or Christian Bale\n",
      "Vin Diesel: Percent Error = 10.4894%\n",
      "Vin Diesel: Predicted Revenue = $1.1088E+09\n",
      "Vin Diesel: Actual Revenue = $1.2388E+09\n",
      "\n",
      "\n",
      "Dwayne Johnson: Percent Error = 8.2287%\n",
      "Dwayne Johnson: Predicted Revenue = $1.1368E+09\n",
      "Dwayne Johnson: Actual Revenue = $1.2388E+09\n",
      "\n",
      "\n",
      "Christian Bale: Percent Error = 90.3673%\n",
      "Christian Bale: Predicted Revenue = $1.1933E+08\n",
      "Christian Bale: Actual Revenue = $1.2388E+09\n"
     ]
    }
   ],
   "source": [
    "# Perform training, and predicting for the Vin Diesel Model for the The Fate of the Furious movie\n",
    "cb_df_vd = pd.read_csv(\"vd_data.csv\", index_col=False)\n",
    "x_train_vd = cb_df_vd.drop(['tmdb_id', 'revenue'], axis=1)\n",
    "N = len(x_train_vd)\n",
    "regressor_vd = RandomForestRegressor(n_estimators = 1000, random_state = 0)\n",
    "regressor_vd.fit(x_train_vd.iloc[0:(N-1)], cb_df_vd.revenue.iloc[0:(N-1)])                             \n",
    "test_dj = x_train_vd.iloc[(N-1):N]\n",
    "preds_vd = regressor_vd.predict(test_dj)\n",
    "final_rev_dj = cb_df_vd.revenue.iloc[(N-1):N]\n",
    "print('Predictive Metrics for \\\"Fate of the Furious\\\" with Vin Diesel, Dwayne Johnson, or Christian Bale')\n",
    "print('Vin Diesel: Percent Error = %.4f' % ((final_rev_dj - preds_vd[0])*100/final_rev_dj) + '%')\n",
    "print('Vin Diesel: Predicted Revenue = $%.4E' % (preds_vd[0]*1e9))\n",
    "print('Vin Diesel: Actual Revenue = $%.4E' % (final_rev_dj*1e9) + '\\n\\n')\n",
    "\n",
    "# Perform training, and predicting for the Dwayne Johnson Model for the The Fate of the Furious movie\n",
    "cb_df_dj = pd.read_csv(\"dj_data.csv\", index_col=False)\n",
    "x_train_dj = cb_df_dj.drop(['tmdb_id', 'revenue'], axis=1)\n",
    "N = len(x_train_dj)\n",
    "regressor_dj = RandomForestRegressor(n_estimators = 1000, random_state = 0)\n",
    "regressor_dj.fit(x_train_dj.iloc[0:(N-1)], cb_df_dj.revenue.iloc[0:(N-1)])\n",
    "preds_dj = regressor_dj.predict(test_dj)\n",
    "print('Dwayne Johnson: Percent Error = %.4f' % ((final_rev_dj - preds_dj[0])*100/final_rev_dj) + '%')\n",
    "print('Dwayne Johnson: Predicted Revenue = $%.4E' % (preds_dj[0]*1e9))\n",
    "print('Dwayne Johnson: Actual Revenue = $%.4E' % (final_rev_dj*1e9) + '\\n\\n')\n",
    "\n",
    "# Perform training, and predicting for the Christian Bale Model for the The Fate of the Furious movie\n",
    "cb_df_cb = pd.read_csv(\"cb_data.csv\", index_col=False)\n",
    "x_train_cb = cb_df_cb.drop(['tmdb_id', 'revenue'], axis=1)\n",
    "N = len(x_train_cb)\n",
    "regressor_cb = RandomForestRegressor(n_estimators = 1000, random_state = 0)\n",
    "regressor_cb.fit(x_train_cb.iloc[0:(N-1)], cb_df_cb.revenue.iloc[0:(N-1)])                             \n",
    "preds_cb = regressor_cb.predict(test_dj)\n",
    "final_rev_cb = cb_df_cb.revenue.iloc[(N-1):N]\n",
    "print('Christian Bale: Percent Error = %.4f' % ((final_rev_dj - preds_cb[0])*100/final_rev_dj) + '%')\n",
    "print('Christian Bale: Predicted Revenue = $%.4E' % (preds_cb[0]*1e9))\n",
    "print('Christian Bale: Actual Revenue = $%.4E' % (final_rev_dj*1e9))"
   ]
  },
  {
   "cell_type": "markdown",
   "metadata": {},
   "source": [
    "This current model would have selected Dwayne Johnson for this movie \"The Fate of the Furious\". Dwayne has done better than Vin Diesel in big budget movies, greater than ~$100 million budgets. Christian Bale has not done many big budget movies, and this model predicts that he would have done horribly. Christian is not a action hero movie actor. He is more of a drama movie actor, and this model learned this."
   ]
  },
  {
   "cell_type": "markdown",
   "metadata": {},
   "source": [
    "To improve this current movie model add more features:\n",
    "- Add the number of \"A-list\" co-stars\n",
    "- Add information about A-list co-stars career profile\n",
    "- Add informaiton about directors, and their career profile\n",
    "- Add informaiton about movie rating (PG, PG-13, R)\n",
    "- Add information about the themes in the movie"
   ]
  }
 ],
 "metadata": {
  "kernelspec": {
   "display_name": "Python 3",
   "language": "python",
   "name": "python3"
  },
  "language_info": {
   "codemirror_mode": {
    "name": "ipython",
    "version": 3
   },
   "file_extension": ".py",
   "mimetype": "text/x-python",
   "name": "python",
   "nbconvert_exporter": "python",
   "pygments_lexer": "ipython3",
   "version": "3.7.3"
  }
 },
 "nbformat": 4,
 "nbformat_minor": 2
}
